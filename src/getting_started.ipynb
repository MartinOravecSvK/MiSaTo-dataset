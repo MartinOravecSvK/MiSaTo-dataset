{
 "cells": [
  {
   "cell_type": "markdown",
   "metadata": {},
   "source": [
    "# MiSaTo-Dataset: a tutorial"
   ]
  },
  {
   "cell_type": "markdown",
   "metadata": {},
   "source": [
    "In this notebook, we will show how our QM and MD dataset are stored in h5 files. We also show how the data can be loaded so that it can be used by a deep learning model. "
   ]
  },
  {
   "cell_type": "markdown",
   "metadata": {},
   "source": [
    "We start by importing the useful packages and set up the paths of the files"
   ]
  },
  {
   "cell_type": "code",
   "execution_count": 1,
   "metadata": {},
   "outputs": [],
   "source": [
    "import h5py\n",
    "import numpy as np \n",
    "\n",
    "import torch_geometric.transforms as T\n",
    "from torch_geometric.loader import DataLoader\n",
    "\n",
    "from data.components.datasets import MolDataset, ProtDataset\n",
    "from data.components.transformQM import GNNTransformQM\n",
    "from data.components.transformMD import GNNTransformMD\n",
    "from data.qm_datamodule import QMDataModule\n",
    "from data.md_datamodule import MDDataModule\n",
    "from data.processing import preprocessing_db"
   ]
  },
  {
   "cell_type": "code",
   "execution_count": 2,
   "metadata": {},
   "outputs": [],
   "source": [
    "qmh5_file = \"../data/QM/h5_files/tiny_qm.hdf5\"\n",
    "norm_file = \"../data/QM/h5_files/qm_norm.hdf5\"\n",
    "norm_txtfile = \"../data/QM/splits/train_norm.txt\""
   ]
  },
  {
   "cell_type": "markdown",
   "metadata": {},
   "source": [
    "## H5 files presentations"
   ]
  },
  {
   "cell_type": "markdown",
   "metadata": {},
   "source": [
    "We read the QM H5 file and H5 file used to normalize the target values."
   ]
  },
  {
   "cell_type": "code",
   "execution_count": 3,
   "metadata": {},
   "outputs": [],
   "source": [
    "qm_H5File = h5py.File(qmh5_file)\n",
    "qm_normFile = h5py.File(norm_file)"
   ]
  },
  {
   "cell_type": "markdown",
   "metadata": {},
   "source": [
    "The ligands can be accessed using the pdb-id. Bellow we show the first ten molecules of the file."
   ]
  },
  {
   "cell_type": "code",
   "execution_count": 4,
   "metadata": {},
   "outputs": [
    {
     "data": {
      "text/plain": [
       "<KeysViewHDF5 ['10gs', '11gs', '13gs', '16pk', '184l', '185l', '186l', '187l', '188l', '1a07', '1a08', '1a09', '1a0q', '1a0tA', '1a0tB', '1a1b', '1a1c', '1a1e', '1a28', '1a2c', '1a30', '1a37', '1a42', '1a46', '1a4g', '1a4h', '1a4k', '1a4m', '1a4q', '1a4r', '1a4w', '1a50', '1a52', '1a5g', '1a5h', '1a5v', '1a61', '1a69', '1a7c', '1a7t', '1a7x', '1a85', '1a86', '1a8i', '1a8t', '1a94', '1a99', '1a9m', '1a9q', '1a9u']>"
      ]
     },
     "execution_count": 4,
     "metadata": {},
     "output_type": "execute_result"
    }
   ],
   "source": [
    "qm_H5File.keys()"
   ]
  },
  {
   "cell_type": "markdown",
   "metadata": {},
   "source": [
    "You can access to the molecule trajectories as follow"
   ]
  },
  {
   "cell_type": "code",
   "execution_count": 5,
   "metadata": {},
   "outputs": [],
   "source": [
    "xyz = qm_H5File[\"10gs\"][\"atom_properties\"][\"atom_properties_values\"][:, 0:3]"
   ]
  },
  {
   "cell_type": "markdown",
   "metadata": {},
   "source": [
    "Target values can be accessed by specifiying into bracket the molecule name, then mol_properties and finally the name of the target value that we want to access: "
   ]
  },
  {
   "cell_type": "code",
   "execution_count": 6,
   "metadata": {},
   "outputs": [
    {
     "data": {
      "text/plain": [
       "6.0974"
      ]
     },
     "execution_count": 6,
     "metadata": {},
     "output_type": "execute_result"
    }
   ],
   "source": [
    "qm_H5File[\"10gs\"][\"mol_properties\"][\"Electron_Affinity\"][()]"
   ]
  },
  {
   "cell_type": "markdown",
   "metadata": {},
   "source": [
    "We can access to the mean and standard-deviation of each target value by specifiying it into bracket.\n",
    "We first specify the set, then the target value and finally either mean or std. "
   ]
  },
  {
   "cell_type": "code",
   "execution_count": 7,
   "metadata": {},
   "outputs": [
    {
     "data": {
      "text/plain": [
       "<KeysViewHDF5 ['Electron_Affinity', 'Electronegativity', 'Hardness', 'Ionization_Potential']>"
      ]
     },
     "execution_count": 7,
     "metadata": {},
     "output_type": "execute_result"
    }
   ],
   "source": [
    "qm_normFile.keys()"
   ]
  },
  {
   "cell_type": "code",
   "execution_count": 8,
   "metadata": {},
   "outputs": [
    {
     "name": "stdout",
     "output_type": "stream",
     "text": [
      "6.472403\n",
      "3.8111687\n"
     ]
    }
   ],
   "source": [
    "print(qm_normFile[\"Electron_Affinity\"][\"mean\"][()])\n",
    "print(qm_normFile[\"Electron_Affinity\"][\"std\"][()])"
   ]
  },
  {
   "cell_type": "markdown",
   "metadata": {},
   "source": [
    "## Datasets and dataloaders"
   ]
  },
  {
   "cell_type": "markdown",
   "metadata": {},
   "source": [
    "### PyTorch"
   ]
  },
  {
   "cell_type": "markdown",
   "metadata": {},
   "source": [
    "The QM and MD datasets are warped into a PyTorch Dataset class under the name MolDataset and ProtDataset, respectively. \n",
    "The parameters taken by the two classes as well as their types can be found as follow."
   ]
  },
  {
   "cell_type": "code",
   "execution_count": 9,
   "metadata": {},
   "outputs": [
    {
     "name": "stdout",
     "output_type": "stream",
     "text": [
      "Help on class MolDataset in module data.components.datasets:\n",
      "\n",
      "class MolDataset(torch.utils.data.dataset.Dataset)\n",
      " |  MolDataset(data_file, idx_file, target_norm_file, transform, isTrain=False, post_transform=None)\n",
      " |  \n",
      " |  Load the QM dataset.\n",
      " |  \n",
      " |  Method resolution order:\n",
      " |      MolDataset\n",
      " |      torch.utils.data.dataset.Dataset\n",
      " |      typing.Generic\n",
      " |      builtins.object\n",
      " |  \n",
      " |  Methods defined here:\n",
      " |  \n",
      " |  __getitem__(self, index: int)\n",
      " |  \n",
      " |  __init__(self, data_file, idx_file, target_norm_file, transform, isTrain=False, post_transform=None)\n",
      " |      Args:\n",
      " |          data_file (str): H5 file path\n",
      " |          idx_file (str): path of txt file which contains pdb ids for a specific split such as train, val or test.\n",
      " |          target_norm_file (str): H5 file path where training mean and std are stored.  \n",
      " |          transform (obj): class that convert a dict to a PyTorch Geometric graph.\n",
      " |          isTrain (bool, optional): Flag to standardize the target values (only used for train set). Defaults to False.\n",
      " |          post_transform (PyTorch Geometric, optional): data augmentation. Defaults to None.\n",
      " |  \n",
      " |  __len__(self) -> int\n",
      " |  \n",
      " |  ----------------------------------------------------------------------\n",
      " |  Data and other attributes defined here:\n",
      " |  \n",
      " |  __parameters__ = ()\n",
      " |  \n",
      " |  ----------------------------------------------------------------------\n",
      " |  Methods inherited from torch.utils.data.dataset.Dataset:\n",
      " |  \n",
      " |  __add__(self, other: 'Dataset[T_co]') -> 'ConcatDataset[T_co]'\n",
      " |  \n",
      " |  ----------------------------------------------------------------------\n",
      " |  Data descriptors inherited from torch.utils.data.dataset.Dataset:\n",
      " |  \n",
      " |  __dict__\n",
      " |      dictionary for instance variables (if defined)\n",
      " |  \n",
      " |  __weakref__\n",
      " |      list of weak references to the object (if defined)\n",
      " |  \n",
      " |  ----------------------------------------------------------------------\n",
      " |  Data and other attributes inherited from torch.utils.data.dataset.Dataset:\n",
      " |  \n",
      " |  __orig_bases__ = (typing.Generic[+T_co],)\n",
      " |  \n",
      " |  ----------------------------------------------------------------------\n",
      " |  Class methods inherited from typing.Generic:\n",
      " |  \n",
      " |  __class_getitem__(params) from builtins.type\n",
      " |  \n",
      " |  __init_subclass__(*args, **kwargs) from builtins.type\n",
      " |      This method is called when a class is subclassed.\n",
      " |      \n",
      " |      The default implementation does nothing. It may be\n",
      " |      overridden to extend subclasses.\n",
      "\n"
     ]
    }
   ],
   "source": [
    "help(MolDataset)"
   ]
  },
  {
   "cell_type": "code",
   "execution_count": 10,
   "metadata": {},
   "outputs": [
    {
     "name": "stdout",
     "output_type": "stream",
     "text": [
      "Help on class ProtDataset in module data.components.datasets:\n",
      "\n",
      "class ProtDataset(torch.utils.data.dataset.Dataset)\n",
      " |  ProtDataset(md_data_file, idx_file, transform=None, post_transform=None)\n",
      " |  \n",
      " |  Load the MD dataset\n",
      " |  \n",
      " |  Method resolution order:\n",
      " |      ProtDataset\n",
      " |      torch.utils.data.dataset.Dataset\n",
      " |      typing.Generic\n",
      " |      builtins.object\n",
      " |  \n",
      " |  Methods defined here:\n",
      " |  \n",
      " |  __getitem__(self, index: int)\n",
      " |  \n",
      " |  __init__(self, md_data_file, idx_file, transform=None, post_transform=None)\n",
      " |      Args:\n",
      " |          md_data_file (str): H5 file path\n",
      " |          idx_file (str): path of txt file which contains pdb ids for a specific split such as train, val or test.\n",
      " |          transform (obj): class that convert a dict to a PyTorch Geometric graph.\n",
      " |          post_transform (PyTorch Geometric, optional): data augmentation. Defaults to None.\n",
      " |  \n",
      " |  __len__(self) -> int\n",
      " |  \n",
      " |  ----------------------------------------------------------------------\n",
      " |  Data and other attributes defined here:\n",
      " |  \n",
      " |  __parameters__ = ()\n",
      " |  \n",
      " |  ----------------------------------------------------------------------\n",
      " |  Methods inherited from torch.utils.data.dataset.Dataset:\n",
      " |  \n",
      " |  __add__(self, other: 'Dataset[T_co]') -> 'ConcatDataset[T_co]'\n",
      " |  \n",
      " |  ----------------------------------------------------------------------\n",
      " |  Data descriptors inherited from torch.utils.data.dataset.Dataset:\n",
      " |  \n",
      " |  __dict__\n",
      " |      dictionary for instance variables (if defined)\n",
      " |  \n",
      " |  __weakref__\n",
      " |      list of weak references to the object (if defined)\n",
      " |  \n",
      " |  ----------------------------------------------------------------------\n",
      " |  Data and other attributes inherited from torch.utils.data.dataset.Dataset:\n",
      " |  \n",
      " |  __orig_bases__ = (typing.Generic[+T_co],)\n",
      " |  \n",
      " |  ----------------------------------------------------------------------\n",
      " |  Class methods inherited from typing.Generic:\n",
      " |  \n",
      " |  __class_getitem__(params) from builtins.type\n",
      " |  \n",
      " |  __init_subclass__(*args, **kwargs) from builtins.type\n",
      " |      This method is called when a class is subclassed.\n",
      " |      \n",
      " |      The default implementation does nothing. It may be\n",
      " |      overridden to extend subclasses.\n",
      "\n"
     ]
    }
   ],
   "source": [
    "help(ProtDataset)"
   ]
  },
  {
   "cell_type": "markdown",
   "metadata": {},
   "source": [
    "We can load the data by instanciating MolDataset and providing the QM H5 file, the text file that indicates the molecule used for training and the norm file used to normalize the target values. \n",
    "\n",
    "The MolDataset class without any transform return a dictionary that contain the elements and their coordinates. We use GNNTransformQM class to transform our data to a graph that can be used by a GNN. The parameter post_transform is another transformation used to perform data augmentation."
   ]
  },
  {
   "cell_type": "code",
   "execution_count": 11,
   "metadata": {},
   "outputs": [],
   "source": [
    "train = \"../data/QM/splits/train_tinyQM.txt\"\n",
    "\n",
    "transform = T.RandomTranslate(0.25)\n",
    "batch_size = 128\n",
    "num_workers = 48\n",
    "\n",
    "data_train = MolDataset(qmh5_file, train, target_norm_file=norm_file, transform=GNNTransformQM(), post_transform=transform)"
   ]
  },
  {
   "cell_type": "markdown",
   "metadata": {},
   "source": [
    "Finally, we can load our data using the PyTorch DataLoader."
   ]
  },
  {
   "cell_type": "code",
   "execution_count": 12,
   "metadata": {},
   "outputs": [
    {
     "name": "stdout",
     "output_type": "stream",
     "text": [
      "DataBatch(x=[1602, 25], edge_index=[2, 30354], edge_attr=[30354, 1], y=[60], pos=[1602, 3], id=[30], batch=[1602], ptr=[31])\n"
     ]
    }
   ],
   "source": [
    "train_loader = DataLoader(data_train, batch_size, shuffle=True, num_workers=0)\n",
    "\n",
    "for idx, val in enumerate(train_loader):\n",
    "    print(val)\n",
    "    break"
   ]
  },
  {
   "cell_type": "markdown",
   "metadata": {},
   "source": [
    "### PyTorch lightning "
   ]
  },
  {
   "cell_type": "markdown",
   "metadata": {},
   "source": [
    "The QMDataModule is a class inherated from LightningDataModule that instanciate the MolDataset for training, validation and test set and retrun a dataloader for each set. \n",
    "\n",
    "We start by instanciation of the QMDataModule"
   ]
  },
  {
   "cell_type": "code",
   "execution_count": 13,
   "metadata": {},
   "outputs": [],
   "source": [
    "files_root =  \"../data/QM\"\n",
    "\n",
    "qmh5file = \"h5_files/tiny_qm.hdf5\"\n",
    "\n",
    "tr = \"splits/train_tinyQM.txt\"\n",
    "v = \"splits/val_tinyQM.txt\"\n",
    "te = \"splits/test_tinyQM.txt\"\n",
    "\n",
    "qmdata = QMDataModule(files_root, h5file=qmh5file, train=tr, val=v, test=te, num_workers=0)"
   ]
  },
  {
   "cell_type": "markdown",
   "metadata": {},
   "source": [
    "Then, we call the setup function to instanciate the MolDataset for training, validation and test set"
   ]
  },
  {
   "cell_type": "code",
   "execution_count": 14,
   "metadata": {},
   "outputs": [],
   "source": [
    "qmdata.setup()"
   ]
  },
  {
   "cell_type": "markdown",
   "metadata": {},
   "source": [
    "Finally, we can return a dataloader for each set."
   ]
  },
  {
   "cell_type": "code",
   "execution_count": 15,
   "metadata": {},
   "outputs": [
    {
     "name": "stdout",
     "output_type": "stream",
     "text": [
      "DataBatch(x=[1602, 25], edge_index=[2, 30354], edge_attr=[30354, 1], y=[60], pos=[1602, 3], id=[30], batch=[1602], ptr=[31])\n"
     ]
    }
   ],
   "source": [
    "train_loader = qmdata.train_dataloader()\n",
    "\n",
    "for idx, val in enumerate(train_loader):\n",
    "    print(val)\n",
    "    break\n",
    "    "
   ]
  },
  {
   "cell_type": "markdown",
   "metadata": {},
   "source": [
    "# MD dataset"
   ]
  },
  {
   "cell_type": "markdown",
   "metadata": {},
   "source": [
    "To generate the hdf5 file for the softness and hardness predictions"
   ]
  },
  {
   "cell_type": "code",
   "execution_count": 59,
   "metadata": {},
   "outputs": [
    {
     "name": "stdout",
     "output_type": "stream",
     "text": [
      "10gs 1\n",
      "{'trajectory_coordinates': <HDF5 dataset \"trajectory_coordinates\": shape (100, 6593, 3), type \"<f8\">, 'atoms_type': <HDF5 dataset \"atoms_type\": shape (6593,), type \"<i8\">, 'atoms_number': <HDF5 dataset \"atoms_number\": shape (6593,), type \"<i8\">, 'atoms_residue': <HDF5 dataset \"atoms_residue\": shape (6593,), type \"<i8\">, 'atoms_element': <HDF5 dataset \"atoms_element\": shape (6593,), type \"<i8\">, 'molecules_begin_atom_index': <HDF5 dataset \"molecules_begin_atom_index\": shape (3,), type \"<i8\">, 'frames_rmsd_ligand': <HDF5 dataset \"frames_rmsd_ligand\": shape (100,), type \"<f8\">, 'frames_distance': <HDF5 dataset \"frames_distance\": shape (100,), type \"<f8\">, 'frames_interaction_energy': <HDF5 dataset \"frames_interaction_energy\": shape (100,), type \"<f8\">, 'frames_bSASA': <HDF5 dataset \"frames_bSASA\": shape (100,), type \"<f8\">}\n",
      "Stripping  atoms_element 1  and calculating adaptability for the atoms that were not stripped.\n",
      "11gs 2\n",
      "{'trajectory_coordinates': <HDF5 dataset \"trajectory_coordinates\": shape (100, 6600, 3), type \"<f8\">, 'atoms_type': <HDF5 dataset \"atoms_type\": shape (6600,), type \"<i8\">, 'atoms_number': <HDF5 dataset \"atoms_number\": shape (6600,), type \"<i8\">, 'atoms_residue': <HDF5 dataset \"atoms_residue\": shape (6600,), type \"<i8\">, 'atoms_element': <HDF5 dataset \"atoms_element\": shape (6600,), type \"<i8\">, 'molecules_begin_atom_index': <HDF5 dataset \"molecules_begin_atom_index\": shape (3,), type \"<i8\">, 'frames_rmsd_ligand': <HDF5 dataset \"frames_rmsd_ligand\": shape (100,), type \"<f8\">, 'frames_distance': <HDF5 dataset \"frames_distance\": shape (100,), type \"<f8\">, 'frames_interaction_energy': <HDF5 dataset \"frames_interaction_energy\": shape (100,), type \"<f8\">, 'frames_bSASA': <HDF5 dataset \"frames_bSASA\": shape (100,), type \"<f8\">}\n",
      "13gs 3\n",
      "{'trajectory_coordinates': <HDF5 dataset \"trajectory_coordinates\": shape (100, 6606, 3), type \"<f8\">, 'atoms_type': <HDF5 dataset \"atoms_type\": shape (6606,), type \"<i8\">, 'atoms_number': <HDF5 dataset \"atoms_number\": shape (6606,), type \"<i8\">, 'atoms_residue': <HDF5 dataset \"atoms_residue\": shape (6606,), type \"<i8\">, 'atoms_element': <HDF5 dataset \"atoms_element\": shape (6606,), type \"<i8\">, 'molecules_begin_atom_index': <HDF5 dataset \"molecules_begin_atom_index\": shape (3,), type \"<i8\">, 'frames_rmsd_ligand': <HDF5 dataset \"frames_rmsd_ligand\": shape (100,), type \"<f8\">, 'frames_distance': <HDF5 dataset \"frames_distance\": shape (100,), type \"<f8\">, 'frames_interaction_energy': <HDF5 dataset \"frames_interaction_energy\": shape (100,), type \"<f8\">, 'frames_bSASA': <HDF5 dataset \"frames_bSASA\": shape (100,), type \"<f8\">}\n",
      "16pk 4\n",
      "{'trajectory_coordinates': <HDF5 dataset \"trajectory_coordinates\": shape (100, 6435, 3), type \"<f8\">, 'atoms_type': <HDF5 dataset \"atoms_type\": shape (6435,), type \"<i8\">, 'atoms_number': <HDF5 dataset \"atoms_number\": shape (6435,), type \"<i8\">, 'atoms_residue': <HDF5 dataset \"atoms_residue\": shape (6435,), type \"<i8\">, 'atoms_element': <HDF5 dataset \"atoms_element\": shape (6435,), type \"<i8\">, 'molecules_begin_atom_index': <HDF5 dataset \"molecules_begin_atom_index\": shape (2,), type \"<i8\">, 'frames_rmsd_ligand': <HDF5 dataset \"frames_rmsd_ligand\": shape (100,), type \"<f8\">, 'frames_distance': <HDF5 dataset \"frames_distance\": shape (100,), type \"<f8\">, 'frames_interaction_energy': <HDF5 dataset \"frames_interaction_energy\": shape (100,), type \"<f8\">, 'frames_bSASA': <HDF5 dataset \"frames_bSASA\": shape (100,), type \"<f8\">}\n",
      "184l 5\n",
      "{'trajectory_coordinates': <HDF5 dataset \"trajectory_coordinates\": shape (100, 2627, 3), type \"<f8\">, 'atoms_type': <HDF5 dataset \"atoms_type\": shape (2627,), type \"<i8\">, 'atoms_number': <HDF5 dataset \"atoms_number\": shape (2627,), type \"<i8\">, 'atoms_residue': <HDF5 dataset \"atoms_residue\": shape (2627,), type \"<i8\">, 'atoms_element': <HDF5 dataset \"atoms_element\": shape (2627,), type \"<i8\">, 'molecules_begin_atom_index': <HDF5 dataset \"molecules_begin_atom_index\": shape (2,), type \"<i8\">, 'frames_rmsd_ligand': <HDF5 dataset \"frames_rmsd_ligand\": shape (100,), type \"<f8\">, 'frames_distance': <HDF5 dataset \"frames_distance\": shape (100,), type \"<f8\">, 'frames_interaction_energy': <HDF5 dataset \"frames_interaction_energy\": shape (100,), type \"<f8\">, 'frames_bSASA': <HDF5 dataset \"frames_bSASA\": shape (100,), type \"<f8\">}\n",
      "185l 6\n",
      "{'trajectory_coordinates': <HDF5 dataset \"trajectory_coordinates\": shape (100, 2619, 3), type \"<f8\">, 'atoms_type': <HDF5 dataset \"atoms_type\": shape (2619,), type \"<i8\">, 'atoms_number': <HDF5 dataset \"atoms_number\": shape (2619,), type \"<i8\">, 'atoms_residue': <HDF5 dataset \"atoms_residue\": shape (2619,), type \"<i8\">, 'atoms_element': <HDF5 dataset \"atoms_element\": shape (2619,), type \"<i8\">, 'molecules_begin_atom_index': <HDF5 dataset \"molecules_begin_atom_index\": shape (2,), type \"<i8\">, 'frames_rmsd_ligand': <HDF5 dataset \"frames_rmsd_ligand\": shape (100,), type \"<f8\">, 'frames_distance': <HDF5 dataset \"frames_distance\": shape (100,), type \"<f8\">, 'frames_interaction_energy': <HDF5 dataset \"frames_interaction_energy\": shape (100,), type \"<f8\">, 'frames_bSASA': <HDF5 dataset \"frames_bSASA\": shape (100,), type \"<f8\">}\n",
      "186l 7\n",
      "{'trajectory_coordinates': <HDF5 dataset \"trajectory_coordinates\": shape (100, 2627, 3), type \"<f8\">, 'atoms_type': <HDF5 dataset \"atoms_type\": shape (2627,), type \"<i8\">, 'atoms_number': <HDF5 dataset \"atoms_number\": shape (2627,), type \"<i8\">, 'atoms_residue': <HDF5 dataset \"atoms_residue\": shape (2627,), type \"<i8\">, 'atoms_element': <HDF5 dataset \"atoms_element\": shape (2627,), type \"<i8\">, 'molecules_begin_atom_index': <HDF5 dataset \"molecules_begin_atom_index\": shape (2,), type \"<i8\">, 'frames_rmsd_ligand': <HDF5 dataset \"frames_rmsd_ligand\": shape (100,), type \"<f8\">, 'frames_distance': <HDF5 dataset \"frames_distance\": shape (100,), type \"<f8\">, 'frames_interaction_energy': <HDF5 dataset \"frames_interaction_energy\": shape (100,), type \"<f8\">, 'frames_bSASA': <HDF5 dataset \"frames_bSASA\": shape (100,), type \"<f8\">}\n",
      "187l 8\n",
      "{'trajectory_coordinates': <HDF5 dataset \"trajectory_coordinates\": shape (100, 2621, 3), type \"<f8\">, 'atoms_type': <HDF5 dataset \"atoms_type\": shape (2621,), type \"<i8\">, 'atoms_number': <HDF5 dataset \"atoms_number\": shape (2621,), type \"<i8\">, 'atoms_residue': <HDF5 dataset \"atoms_residue\": shape (2621,), type \"<i8\">, 'atoms_element': <HDF5 dataset \"atoms_element\": shape (2621,), type \"<i8\">, 'molecules_begin_atom_index': <HDF5 dataset \"molecules_begin_atom_index\": shape (2,), type \"<i8\">, 'frames_rmsd_ligand': <HDF5 dataset \"frames_rmsd_ligand\": shape (100,), type \"<f8\">, 'frames_distance': <HDF5 dataset \"frames_distance\": shape (100,), type \"<f8\">, 'frames_interaction_energy': <HDF5 dataset \"frames_interaction_energy\": shape (100,), type \"<f8\">, 'frames_bSASA': <HDF5 dataset \"frames_bSASA\": shape (100,), type \"<f8\">}\n",
      "188l 9\n",
      "{'trajectory_coordinates': <HDF5 dataset \"trajectory_coordinates\": shape (100, 2621, 3), type \"<f8\">, 'atoms_type': <HDF5 dataset \"atoms_type\": shape (2621,), type \"<i8\">, 'atoms_number': <HDF5 dataset \"atoms_number\": shape (2621,), type \"<i8\">, 'atoms_residue': <HDF5 dataset \"atoms_residue\": shape (2621,), type \"<i8\">, 'atoms_element': <HDF5 dataset \"atoms_element\": shape (2621,), type \"<i8\">, 'molecules_begin_atom_index': <HDF5 dataset \"molecules_begin_atom_index\": shape (2,), type \"<i8\">, 'frames_rmsd_ligand': <HDF5 dataset \"frames_rmsd_ligand\": shape (100,), type \"<f8\">, 'frames_distance': <HDF5 dataset \"frames_distance\": shape (100,), type \"<f8\">, 'frames_interaction_energy': <HDF5 dataset \"frames_interaction_energy\": shape (100,), type \"<f8\">, 'frames_bSASA': <HDF5 dataset \"frames_bSASA\": shape (100,), type \"<f8\">}\n",
      "1a07 10\n",
      "{'trajectory_coordinates': <HDF5 dataset \"trajectory_coordinates\": shape (100, 3437, 3), type \"<f8\">, 'atoms_type': <HDF5 dataset \"atoms_type\": shape (3437,), type \"<i8\">, 'atoms_number': <HDF5 dataset \"atoms_number\": shape (3437,), type \"<i8\">, 'atoms_residue': <HDF5 dataset \"atoms_residue\": shape (3437,), type \"<i8\">, 'atoms_element': <HDF5 dataset \"atoms_element\": shape (3437,), type \"<i8\">, 'molecules_begin_atom_index': <HDF5 dataset \"molecules_begin_atom_index\": shape (3,), type \"<i8\">, 'frames_rmsd_ligand': <HDF5 dataset \"frames_rmsd_ligand\": shape (100,), type \"<f8\">, 'frames_distance': <HDF5 dataset \"frames_distance\": shape (100,), type \"<f8\">, 'frames_interaction_energy': <HDF5 dataset \"frames_interaction_energy\": shape (100,), type \"<f8\">, 'frames_bSASA': <HDF5 dataset \"frames_bSASA\": shape (100,), type \"<f8\">}\n",
      "1a08 11\n",
      "{'trajectory_coordinates': <HDF5 dataset \"trajectory_coordinates\": shape (100, 1767, 3), type \"<f8\">, 'atoms_type': <HDF5 dataset \"atoms_type\": shape (1767,), type \"<i8\">, 'atoms_number': <HDF5 dataset \"atoms_number\": shape (1767,), type \"<i8\">, 'atoms_residue': <HDF5 dataset \"atoms_residue\": shape (1767,), type \"<i8\">, 'atoms_element': <HDF5 dataset \"atoms_element\": shape (1767,), type \"<i8\">, 'molecules_begin_atom_index': <HDF5 dataset \"molecules_begin_atom_index\": shape (2,), type \"<i8\">, 'frames_rmsd_ligand': <HDF5 dataset \"frames_rmsd_ligand\": shape (100,), type \"<f8\">, 'frames_distance': <HDF5 dataset \"frames_distance\": shape (100,), type \"<f8\">, 'frames_interaction_energy': <HDF5 dataset \"frames_interaction_energy\": shape (100,), type \"<f8\">, 'frames_bSASA': <HDF5 dataset \"frames_bSASA\": shape (100,), type \"<f8\">}\n",
      "1a09 12\n",
      "{'trajectory_coordinates': <HDF5 dataset \"trajectory_coordinates\": shape (100, 3421, 3), type \"<f8\">, 'atoms_type': <HDF5 dataset \"atoms_type\": shape (3421,), type \"<i8\">, 'atoms_number': <HDF5 dataset \"atoms_number\": shape (3421,), type \"<i8\">, 'atoms_residue': <HDF5 dataset \"atoms_residue\": shape (3421,), type \"<i8\">, 'atoms_element': <HDF5 dataset \"atoms_element\": shape (3421,), type \"<i8\">, 'molecules_begin_atom_index': <HDF5 dataset \"molecules_begin_atom_index\": shape (3,), type \"<i8\">, 'frames_rmsd_ligand': <HDF5 dataset \"frames_rmsd_ligand\": shape (100,), type \"<f8\">, 'frames_distance': <HDF5 dataset \"frames_distance\": shape (100,), type \"<f8\">, 'frames_interaction_energy': <HDF5 dataset \"frames_interaction_energy\": shape (100,), type \"<f8\">, 'frames_bSASA': <HDF5 dataset \"frames_bSASA\": shape (100,), type \"<f8\">}\n",
      "1a0q 13\n",
      "{'trajectory_coordinates': <HDF5 dataset \"trajectory_coordinates\": shape (100, 6410, 3), type \"<f8\">, 'atoms_type': <HDF5 dataset \"atoms_type\": shape (6410,), type \"<i8\">, 'atoms_number': <HDF5 dataset \"atoms_number\": shape (6410,), type \"<i8\">, 'atoms_residue': <HDF5 dataset \"atoms_residue\": shape (6410,), type \"<i8\">, 'atoms_element': <HDF5 dataset \"atoms_element\": shape (6410,), type \"<i8\">, 'molecules_begin_atom_index': <HDF5 dataset \"molecules_begin_atom_index\": shape (5,), type \"<i8\">, 'frames_rmsd_ligand': <HDF5 dataset \"frames_rmsd_ligand\": shape (100,), type \"<f8\">, 'frames_distance': <HDF5 dataset \"frames_distance\": shape (100,), type \"<f8\">, 'frames_interaction_energy': <HDF5 dataset \"frames_interaction_energy\": shape (100,), type \"<f8\">, 'frames_bSASA': <HDF5 dataset \"frames_bSASA\": shape (100,), type \"<f8\">}\n",
      "1a1b 14\n",
      "{'trajectory_coordinates': <HDF5 dataset \"trajectory_coordinates\": shape (100, 3441, 3), type \"<f8\">, 'atoms_type': <HDF5 dataset \"atoms_type\": shape (3441,), type \"<i8\">, 'atoms_number': <HDF5 dataset \"atoms_number\": shape (3441,), type \"<i8\">, 'atoms_residue': <HDF5 dataset \"atoms_residue\": shape (3441,), type \"<i8\">, 'atoms_element': <HDF5 dataset \"atoms_element\": shape (3441,), type \"<i8\">, 'molecules_begin_atom_index': <HDF5 dataset \"molecules_begin_atom_index\": shape (3,), type \"<i8\">, 'frames_rmsd_ligand': <HDF5 dataset \"frames_rmsd_ligand\": shape (100,), type \"<f8\">, 'frames_distance': <HDF5 dataset \"frames_distance\": shape (100,), type \"<f8\">, 'frames_interaction_energy': <HDF5 dataset \"frames_interaction_energy\": shape (100,), type \"<f8\">, 'frames_bSASA': <HDF5 dataset \"frames_bSASA\": shape (100,), type \"<f8\">}\n",
      "1a1c 15\n",
      "{'trajectory_coordinates': <HDF5 dataset \"trajectory_coordinates\": shape (100, 3436, 3), type \"<f8\">, 'atoms_type': <HDF5 dataset \"atoms_type\": shape (3436,), type \"<i8\">, 'atoms_number': <HDF5 dataset \"atoms_number\": shape (3436,), type \"<i8\">, 'atoms_residue': <HDF5 dataset \"atoms_residue\": shape (3436,), type \"<i8\">, 'atoms_element': <HDF5 dataset \"atoms_element\": shape (3436,), type \"<i8\">, 'molecules_begin_atom_index': <HDF5 dataset \"molecules_begin_atom_index\": shape (3,), type \"<i8\">, 'frames_rmsd_ligand': <HDF5 dataset \"frames_rmsd_ligand\": shape (100,), type \"<f8\">, 'frames_distance': <HDF5 dataset \"frames_distance\": shape (100,), type \"<f8\">, 'frames_interaction_energy': <HDF5 dataset \"frames_interaction_energy\": shape (100,), type \"<f8\">, 'frames_bSASA': <HDF5 dataset \"frames_bSASA\": shape (100,), type \"<f8\">}\n",
      "1a1e 16\n",
      "{'trajectory_coordinates': <HDF5 dataset \"trajectory_coordinates\": shape (100, 3425, 3), type \"<f8\">, 'atoms_type': <HDF5 dataset \"atoms_type\": shape (3425,), type \"<i8\">, 'atoms_number': <HDF5 dataset \"atoms_number\": shape (3425,), type \"<i8\">, 'atoms_residue': <HDF5 dataset \"atoms_residue\": shape (3425,), type \"<i8\">, 'atoms_element': <HDF5 dataset \"atoms_element\": shape (3425,), type \"<i8\">, 'molecules_begin_atom_index': <HDF5 dataset \"molecules_begin_atom_index\": shape (3,), type \"<i8\">, 'frames_rmsd_ligand': <HDF5 dataset \"frames_rmsd_ligand\": shape (100,), type \"<f8\">, 'frames_distance': <HDF5 dataset \"frames_distance\": shape (100,), type \"<f8\">, 'frames_interaction_energy': <HDF5 dataset \"frames_interaction_energy\": shape (100,), type \"<f8\">, 'frames_bSASA': <HDF5 dataset \"frames_bSASA\": shape (100,), type \"<f8\">}\n",
      "1a28 17\n",
      "{'trajectory_coordinates': <HDF5 dataset \"trajectory_coordinates\": shape (100, 4191, 3), type \"<f8\">, 'atoms_type': <HDF5 dataset \"atoms_type\": shape (4191,), type \"<i8\">, 'atoms_number': <HDF5 dataset \"atoms_number\": shape (4191,), type \"<i8\">, 'atoms_residue': <HDF5 dataset \"atoms_residue\": shape (4191,), type \"<i8\">, 'atoms_element': <HDF5 dataset \"atoms_element\": shape (4191,), type \"<i8\">, 'molecules_begin_atom_index': <HDF5 dataset \"molecules_begin_atom_index\": shape (2,), type \"<i8\">, 'frames_rmsd_ligand': <HDF5 dataset \"frames_rmsd_ligand\": shape (100,), type \"<f8\">, 'frames_distance': <HDF5 dataset \"frames_distance\": shape (100,), type \"<f8\">, 'frames_interaction_energy': <HDF5 dataset \"frames_interaction_energy\": shape (100,), type \"<f8\">, 'frames_bSASA': <HDF5 dataset \"frames_bSASA\": shape (100,), type \"<f8\">}\n",
      "1a2c 18\n",
      "{'trajectory_coordinates': <HDF5 dataset \"trajectory_coordinates\": shape (100, 4713, 3), type \"<f8\">, 'atoms_type': <HDF5 dataset \"atoms_type\": shape (4713,), type \"<i8\">, 'atoms_number': <HDF5 dataset \"atoms_number\": shape (4713,), type \"<i8\">, 'atoms_residue': <HDF5 dataset \"atoms_residue\": shape (4713,), type \"<i8\">, 'atoms_element': <HDF5 dataset \"atoms_element\": shape (4713,), type \"<i8\">, 'molecules_begin_atom_index': <HDF5 dataset \"molecules_begin_atom_index\": shape (3,), type \"<i8\">, 'frames_rmsd_ligand': <HDF5 dataset \"frames_rmsd_ligand\": shape (100,), type \"<f8\">, 'frames_distance': <HDF5 dataset \"frames_distance\": shape (100,), type \"<f8\">, 'frames_interaction_energy': <HDF5 dataset \"frames_interaction_energy\": shape (100,), type \"<f8\">, 'frames_bSASA': <HDF5 dataset \"frames_bSASA\": shape (100,), type \"<f8\">}\n",
      "1a30 19\n",
      "{'trajectory_coordinates': <HDF5 dataset \"trajectory_coordinates\": shape (100, 3187, 3), type \"<f8\">, 'atoms_type': <HDF5 dataset \"atoms_type\": shape (3187,), type \"<i8\">, 'atoms_number': <HDF5 dataset \"atoms_number\": shape (3187,), type \"<i8\">, 'atoms_residue': <HDF5 dataset \"atoms_residue\": shape (3187,), type \"<i8\">, 'atoms_element': <HDF5 dataset \"atoms_element\": shape (3187,), type \"<i8\">, 'molecules_begin_atom_index': <HDF5 dataset \"molecules_begin_atom_index\": shape (3,), type \"<i8\">, 'frames_rmsd_ligand': <HDF5 dataset \"frames_rmsd_ligand\": shape (100,), type \"<f8\">, 'frames_distance': <HDF5 dataset \"frames_distance\": shape (100,), type \"<f8\">, 'frames_interaction_energy': <HDF5 dataset \"frames_interaction_energy\": shape (100,), type \"<f8\">, 'frames_bSASA': <HDF5 dataset \"frames_bSASA\": shape (100,), type \"<f8\">}\n",
      "1a3e 20\n",
      "{'trajectory_coordinates': <HDF5 dataset \"trajectory_coordinates\": shape (100, 4679, 3), type \"<f8\">, 'atoms_type': <HDF5 dataset \"atoms_type\": shape (4679,), type \"<i8\">, 'atoms_number': <HDF5 dataset \"atoms_number\": shape (4679,), type \"<i8\">, 'atoms_residue': <HDF5 dataset \"atoms_residue\": shape (4679,), type \"<i8\">, 'atoms_element': <HDF5 dataset \"atoms_element\": shape (4679,), type \"<i8\">, 'molecules_begin_atom_index': <HDF5 dataset \"molecules_begin_atom_index\": shape (3,), type \"<i8\">, 'frames_rmsd_ligand': <HDF5 dataset \"frames_rmsd_ligand\": shape (100,), type \"<f8\">, 'frames_distance': <HDF5 dataset \"frames_distance\": shape (100,), type \"<f8\">, 'frames_interaction_energy': <HDF5 dataset \"frames_interaction_energy\": shape (100,), type \"<f8\">, 'frames_bSASA': <HDF5 dataset \"frames_bSASA\": shape (100,), type \"<f8\">}\n",
      "1a42 21\n",
      "{'trajectory_coordinates': <HDF5 dataset \"trajectory_coordinates\": shape (100, 4077, 3), type \"<f8\">, 'atoms_type': <HDF5 dataset \"atoms_type\": shape (4077,), type \"<i8\">, 'atoms_number': <HDF5 dataset \"atoms_number\": shape (4077,), type \"<i8\">, 'atoms_residue': <HDF5 dataset \"atoms_residue\": shape (4077,), type \"<i8\">, 'atoms_element': <HDF5 dataset \"atoms_element\": shape (4077,), type \"<i8\">, 'molecules_begin_atom_index': <HDF5 dataset \"molecules_begin_atom_index\": shape (2,), type \"<i8\">, 'frames_rmsd_ligand': <HDF5 dataset \"frames_rmsd_ligand\": shape (100,), type \"<f8\">, 'frames_distance': <HDF5 dataset \"frames_distance\": shape (100,), type \"<f8\">, 'frames_interaction_energy': <HDF5 dataset \"frames_interaction_energy\": shape (100,), type \"<f8\">, 'frames_bSASA': <HDF5 dataset \"frames_bSASA\": shape (100,), type \"<f8\">}\n",
      "1a46 22\n",
      "{'trajectory_coordinates': <HDF5 dataset \"trajectory_coordinates\": shape (100, 4546, 3), type \"<f8\">, 'atoms_type': <HDF5 dataset \"atoms_type\": shape (4546,), type \"<i8\">, 'atoms_number': <HDF5 dataset \"atoms_number\": shape (4546,), type \"<i8\">, 'atoms_residue': <HDF5 dataset \"atoms_residue\": shape (4546,), type \"<i8\">, 'atoms_element': <HDF5 dataset \"atoms_element\": shape (4546,), type \"<i8\">, 'molecules_begin_atom_index': <HDF5 dataset \"molecules_begin_atom_index\": shape (2,), type \"<i8\">, 'frames_rmsd_ligand': <HDF5 dataset \"frames_rmsd_ligand\": shape (100,), type \"<f8\">, 'frames_distance': <HDF5 dataset \"frames_distance\": shape (100,), type \"<f8\">, 'frames_interaction_energy': <HDF5 dataset \"frames_interaction_energy\": shape (100,), type \"<f8\">, 'frames_bSASA': <HDF5 dataset \"frames_bSASA\": shape (100,), type \"<f8\">}\n",
      "1a4g 23\n",
      "{'trajectory_coordinates': <HDF5 dataset \"trajectory_coordinates\": shape (100, 23895, 3), type \"<f8\">, 'atoms_type': <HDF5 dataset \"atoms_type\": shape (23895,), type \"<i8\">, 'atoms_number': <HDF5 dataset \"atoms_number\": shape (23895,), type \"<i8\">, 'atoms_residue': <HDF5 dataset \"atoms_residue\": shape (23895,), type \"<i8\">, 'atoms_element': <HDF5 dataset \"atoms_element\": shape (23895,), type \"<i8\">, 'molecules_begin_atom_index': <HDF5 dataset \"molecules_begin_atom_index\": shape (5,), type \"<i8\">, 'frames_rmsd_ligand': <HDF5 dataset \"frames_rmsd_ligand\": shape (100,), type \"<f8\">, 'frames_distance': <HDF5 dataset \"frames_distance\": shape (100,), type \"<f8\">, 'frames_interaction_energy': <HDF5 dataset \"frames_interaction_energy\": shape (100,), type \"<f8\">, 'frames_bSASA': <HDF5 dataset \"frames_bSASA\": shape (100,), type \"<f8\">}\n",
      "1a4h 24\n",
      "{'trajectory_coordinates': <HDF5 dataset \"trajectory_coordinates\": shape (100, 6932, 3), type \"<f8\">, 'atoms_type': <HDF5 dataset \"atoms_type\": shape (6932,), type \"<i8\">, 'atoms_number': <HDF5 dataset \"atoms_number\": shape (6932,), type \"<i8\">, 'atoms_residue': <HDF5 dataset \"atoms_residue\": shape (6932,), type \"<i8\">, 'atoms_element': <HDF5 dataset \"atoms_element\": shape (6932,), type \"<i8\">, 'molecules_begin_atom_index': <HDF5 dataset \"molecules_begin_atom_index\": shape (3,), type \"<i8\">, 'frames_rmsd_ligand': <HDF5 dataset \"frames_rmsd_ligand\": shape (100,), type \"<f8\">, 'frames_distance': <HDF5 dataset \"frames_distance\": shape (100,), type \"<f8\">, 'frames_interaction_energy': <HDF5 dataset \"frames_interaction_energy\": shape (100,), type \"<f8\">, 'frames_bSASA': <HDF5 dataset \"frames_bSASA\": shape (100,), type \"<f8\">}\n",
      "1a4m 25\n",
      "{'trajectory_coordinates': <HDF5 dataset \"trajectory_coordinates\": shape (100, 5583, 3), type \"<f8\">, 'atoms_type': <HDF5 dataset \"atoms_type\": shape (5583,), type \"<i8\">, 'atoms_number': <HDF5 dataset \"atoms_number\": shape (5583,), type \"<i8\">, 'atoms_residue': <HDF5 dataset \"atoms_residue\": shape (5583,), type \"<i8\">, 'atoms_element': <HDF5 dataset \"atoms_element\": shape (5583,), type \"<i8\">, 'molecules_begin_atom_index': <HDF5 dataset \"molecules_begin_atom_index\": shape (2,), type \"<i8\">, 'frames_rmsd_ligand': <HDF5 dataset \"frames_rmsd_ligand\": shape (100,), type \"<f8\">, 'frames_distance': <HDF5 dataset \"frames_distance\": shape (100,), type \"<f8\">, 'frames_interaction_energy': <HDF5 dataset \"frames_interaction_energy\": shape (100,), type \"<f8\">, 'frames_bSASA': <HDF5 dataset \"frames_bSASA\": shape (100,), type \"<f8\">}\n",
      "1a4q 26\n",
      "{'trajectory_coordinates': <HDF5 dataset \"trajectory_coordinates\": shape (100, 23907, 3), type \"<f8\">, 'atoms_type': <HDF5 dataset \"atoms_type\": shape (23907,), type \"<i8\">, 'atoms_number': <HDF5 dataset \"atoms_number\": shape (23907,), type \"<i8\">, 'atoms_residue': <HDF5 dataset \"atoms_residue\": shape (23907,), type \"<i8\">, 'atoms_element': <HDF5 dataset \"atoms_element\": shape (23907,), type \"<i8\">, 'molecules_begin_atom_index': <HDF5 dataset \"molecules_begin_atom_index\": shape (5,), type \"<i8\">, 'frames_rmsd_ligand': <HDF5 dataset \"frames_rmsd_ligand\": shape (100,), type \"<f8\">, 'frames_distance': <HDF5 dataset \"frames_distance\": shape (100,), type \"<f8\">, 'frames_interaction_energy': <HDF5 dataset \"frames_interaction_energy\": shape (100,), type \"<f8\">, 'frames_bSASA': <HDF5 dataset \"frames_bSASA\": shape (100,), type \"<f8\">}\n",
      "1a4r 27\n",
      "{'trajectory_coordinates': <HDF5 dataset \"trajectory_coordinates\": shape (100, 6056, 3), type \"<f8\">, 'atoms_type': <HDF5 dataset \"atoms_type\": shape (6056,), type \"<i8\">, 'atoms_number': <HDF5 dataset \"atoms_number\": shape (6056,), type \"<i8\">, 'atoms_residue': <HDF5 dataset \"atoms_residue\": shape (6056,), type \"<i8\">, 'atoms_element': <HDF5 dataset \"atoms_element\": shape (6056,), type \"<i8\">, 'molecules_begin_atom_index': <HDF5 dataset \"molecules_begin_atom_index\": shape (3,), type \"<i8\">, 'frames_rmsd_ligand': <HDF5 dataset \"frames_rmsd_ligand\": shape (100,), type \"<f8\">, 'frames_distance': <HDF5 dataset \"frames_distance\": shape (100,), type \"<f8\">, 'frames_interaction_energy': <HDF5 dataset \"frames_interaction_energy\": shape (100,), type \"<f8\">, 'frames_bSASA': <HDF5 dataset \"frames_bSASA\": shape (100,), type \"<f8\">}\n",
      "1a4w 28\n",
      "{'trajectory_coordinates': <HDF5 dataset \"trajectory_coordinates\": shape (100, 4520, 3), type \"<f8\">, 'atoms_type': <HDF5 dataset \"atoms_type\": shape (4520,), type \"<i8\">, 'atoms_number': <HDF5 dataset \"atoms_number\": shape (4520,), type \"<i8\">, 'atoms_residue': <HDF5 dataset \"atoms_residue\": shape (4520,), type \"<i8\">, 'atoms_element': <HDF5 dataset \"atoms_element\": shape (4520,), type \"<i8\">, 'molecules_begin_atom_index': <HDF5 dataset \"molecules_begin_atom_index\": shape (3,), type \"<i8\">, 'frames_rmsd_ligand': <HDF5 dataset \"frames_rmsd_ligand\": shape (100,), type \"<f8\">, 'frames_distance': <HDF5 dataset \"frames_distance\": shape (100,), type \"<f8\">, 'frames_interaction_energy': <HDF5 dataset \"frames_interaction_energy\": shape (100,), type \"<f8\">, 'frames_bSASA': <HDF5 dataset \"frames_bSASA\": shape (100,), type \"<f8\">}\n",
      "1a52 29\n",
      "{'trajectory_coordinates': <HDF5 dataset \"trajectory_coordinates\": shape (100, 7809, 3), type \"<f8\">, 'atoms_type': <HDF5 dataset \"atoms_type\": shape (7809,), type \"<i8\">, 'atoms_number': <HDF5 dataset \"atoms_number\": shape (7809,), type \"<i8\">, 'atoms_residue': <HDF5 dataset \"atoms_residue\": shape (7809,), type \"<i8\">, 'atoms_element': <HDF5 dataset \"atoms_element\": shape (7809,), type \"<i8\">, 'molecules_begin_atom_index': <HDF5 dataset \"molecules_begin_atom_index\": shape (3,), type \"<i8\">, 'frames_rmsd_ligand': <HDF5 dataset \"frames_rmsd_ligand\": shape (100,), type \"<f8\">, 'frames_distance': <HDF5 dataset \"frames_distance\": shape (100,), type \"<f8\">, 'frames_interaction_energy': <HDF5 dataset \"frames_interaction_energy\": shape (100,), type \"<f8\">, 'frames_bSASA': <HDF5 dataset \"frames_bSASA\": shape (100,), type \"<f8\">}\n",
      "1a5g 30\n",
      "{'trajectory_coordinates': <HDF5 dataset \"trajectory_coordinates\": shape (100, 4558, 3), type \"<f8\">, 'atoms_type': <HDF5 dataset \"atoms_type\": shape (4558,), type \"<i8\">, 'atoms_number': <HDF5 dataset \"atoms_number\": shape (4558,), type \"<i8\">, 'atoms_residue': <HDF5 dataset \"atoms_residue\": shape (4558,), type \"<i8\">, 'atoms_element': <HDF5 dataset \"atoms_element\": shape (4558,), type \"<i8\">, 'molecules_begin_atom_index': <HDF5 dataset \"molecules_begin_atom_index\": shape (2,), type \"<i8\">, 'frames_rmsd_ligand': <HDF5 dataset \"frames_rmsd_ligand\": shape (100,), type \"<f8\">, 'frames_distance': <HDF5 dataset \"frames_distance\": shape (100,), type \"<f8\">, 'frames_interaction_energy': <HDF5 dataset \"frames_interaction_energy\": shape (100,), type \"<f8\">, 'frames_bSASA': <HDF5 dataset \"frames_bSASA\": shape (100,), type \"<f8\">}\n",
      "1a5h 31\n",
      "{'trajectory_coordinates': <HDF5 dataset \"trajectory_coordinates\": shape (100, 7822, 3), type \"<f8\">, 'atoms_type': <HDF5 dataset \"atoms_type\": shape (7822,), type \"<i8\">, 'atoms_number': <HDF5 dataset \"atoms_number\": shape (7822,), type \"<i8\">, 'atoms_residue': <HDF5 dataset \"atoms_residue\": shape (7822,), type \"<i8\">, 'atoms_element': <HDF5 dataset \"atoms_element\": shape (7822,), type \"<i8\">, 'molecules_begin_atom_index': <HDF5 dataset \"molecules_begin_atom_index\": shape (3,), type \"<i8\">, 'frames_rmsd_ligand': <HDF5 dataset \"frames_rmsd_ligand\": shape (100,), type \"<f8\">, 'frames_distance': <HDF5 dataset \"frames_distance\": shape (100,), type \"<f8\">, 'frames_interaction_energy': <HDF5 dataset \"frames_interaction_energy\": shape (100,), type \"<f8\">, 'frames_bSASA': <HDF5 dataset \"frames_bSASA\": shape (100,), type \"<f8\">}\n",
      "1a61 32\n",
      "{'trajectory_coordinates': <HDF5 dataset \"trajectory_coordinates\": shape (100, 4544, 3), type \"<f8\">, 'atoms_type': <HDF5 dataset \"atoms_type\": shape (4544,), type \"<i8\">, 'atoms_number': <HDF5 dataset \"atoms_number\": shape (4544,), type \"<i8\">, 'atoms_residue': <HDF5 dataset \"atoms_residue\": shape (4544,), type \"<i8\">, 'atoms_element': <HDF5 dataset \"atoms_element\": shape (4544,), type \"<i8\">, 'molecules_begin_atom_index': <HDF5 dataset \"molecules_begin_atom_index\": shape (2,), type \"<i8\">, 'frames_rmsd_ligand': <HDF5 dataset \"frames_rmsd_ligand\": shape (100,), type \"<f8\">, 'frames_distance': <HDF5 dataset \"frames_distance\": shape (100,), type \"<f8\">, 'frames_interaction_energy': <HDF5 dataset \"frames_interaction_energy\": shape (100,), type \"<f8\">, 'frames_bSASA': <HDF5 dataset \"frames_bSASA\": shape (100,), type \"<f8\">}\n",
      "1a69 33\n",
      "{'trajectory_coordinates': <HDF5 dataset \"trajectory_coordinates\": shape (100, 21511, 3), type \"<f8\">, 'atoms_type': <HDF5 dataset \"atoms_type\": shape (21511,), type \"<i8\">, 'atoms_number': <HDF5 dataset \"atoms_number\": shape (21511,), type \"<i8\">, 'atoms_residue': <HDF5 dataset \"atoms_residue\": shape (21511,), type \"<i8\">, 'atoms_element': <HDF5 dataset \"atoms_element\": shape (21511,), type \"<i8\">, 'molecules_begin_atom_index': <HDF5 dataset \"molecules_begin_atom_index\": shape (9,), type \"<i8\">, 'frames_rmsd_ligand': <HDF5 dataset \"frames_rmsd_ligand\": shape (100,), type \"<f8\">, 'frames_distance': <HDF5 dataset \"frames_distance\": shape (100,), type \"<f8\">, 'frames_interaction_energy': <HDF5 dataset \"frames_interaction_energy\": shape (100,), type \"<f8\">, 'frames_bSASA': <HDF5 dataset \"frames_bSASA\": shape (100,), type \"<f8\">}\n",
      "1a7c 34\n",
      "{'trajectory_coordinates': <HDF5 dataset \"trajectory_coordinates\": shape (100, 5882, 3), type \"<f8\">, 'atoms_type': <HDF5 dataset \"atoms_type\": shape (5882,), type \"<i8\">, 'atoms_number': <HDF5 dataset \"atoms_number\": shape (5882,), type \"<i8\">, 'atoms_residue': <HDF5 dataset \"atoms_residue\": shape (5882,), type \"<i8\">, 'atoms_element': <HDF5 dataset \"atoms_element\": shape (5882,), type \"<i8\">, 'molecules_begin_atom_index': <HDF5 dataset \"molecules_begin_atom_index\": shape (3,), type \"<i8\">, 'frames_rmsd_ligand': <HDF5 dataset \"frames_rmsd_ligand\": shape (100,), type \"<f8\">, 'frames_distance': <HDF5 dataset \"frames_distance\": shape (100,), type \"<f8\">, 'frames_interaction_energy': <HDF5 dataset \"frames_interaction_energy\": shape (100,), type \"<f8\">, 'frames_bSASA': <HDF5 dataset \"frames_bSASA\": shape (100,), type \"<f8\">}\n",
      "1a7t 35\n",
      "{'trajectory_coordinates': <HDF5 dataset \"trajectory_coordinates\": shape (100, 6929, 3), type \"<f8\">, 'atoms_type': <HDF5 dataset \"atoms_type\": shape (6929,), type \"<i8\">, 'atoms_number': <HDF5 dataset \"atoms_number\": shape (6929,), type \"<i8\">, 'atoms_residue': <HDF5 dataset \"atoms_residue\": shape (6929,), type \"<i8\">, 'atoms_element': <HDF5 dataset \"atoms_element\": shape (6929,), type \"<i8\">, 'molecules_begin_atom_index': <HDF5 dataset \"molecules_begin_atom_index\": shape (3,), type \"<i8\">, 'frames_rmsd_ligand': <HDF5 dataset \"frames_rmsd_ligand\": shape (100,), type \"<f8\">, 'frames_distance': <HDF5 dataset \"frames_distance\": shape (100,), type \"<f8\">, 'frames_interaction_energy': <HDF5 dataset \"frames_interaction_energy\": shape (100,), type \"<f8\">, 'frames_bSASA': <HDF5 dataset \"frames_bSASA\": shape (100,), type \"<f8\">}\n",
      "1a7x 36\n",
      "{'trajectory_coordinates': <HDF5 dataset \"trajectory_coordinates\": shape (100, 3469, 3), type \"<f8\">, 'atoms_type': <HDF5 dataset \"atoms_type\": shape (3469,), type \"<i8\">, 'atoms_number': <HDF5 dataset \"atoms_number\": shape (3469,), type \"<i8\">, 'atoms_residue': <HDF5 dataset \"atoms_residue\": shape (3469,), type \"<i8\">, 'atoms_element': <HDF5 dataset \"atoms_element\": shape (3469,), type \"<i8\">, 'molecules_begin_atom_index': <HDF5 dataset \"molecules_begin_atom_index\": shape (3,), type \"<i8\">, 'frames_rmsd_ligand': <HDF5 dataset \"frames_rmsd_ligand\": shape (100,), type \"<f8\">, 'frames_distance': <HDF5 dataset \"frames_distance\": shape (100,), type \"<f8\">, 'frames_interaction_energy': <HDF5 dataset \"frames_interaction_energy\": shape (100,), type \"<f8\">, 'frames_bSASA': <HDF5 dataset \"frames_bSASA\": shape (100,), type \"<f8\">}\n",
      "1a85 37\n",
      "{'trajectory_coordinates': <HDF5 dataset \"trajectory_coordinates\": shape (100, 2450, 3), type \"<f8\">, 'atoms_type': <HDF5 dataset \"atoms_type\": shape (2450,), type \"<i8\">, 'atoms_number': <HDF5 dataset \"atoms_number\": shape (2450,), type \"<i8\">, 'atoms_residue': <HDF5 dataset \"atoms_residue\": shape (2450,), type \"<i8\">, 'atoms_element': <HDF5 dataset \"atoms_element\": shape (2450,), type \"<i8\">, 'molecules_begin_atom_index': <HDF5 dataset \"molecules_begin_atom_index\": shape (2,), type \"<i8\">, 'frames_rmsd_ligand': <HDF5 dataset \"frames_rmsd_ligand\": shape (100,), type \"<f8\">, 'frames_distance': <HDF5 dataset \"frames_distance\": shape (100,), type \"<f8\">, 'frames_interaction_energy': <HDF5 dataset \"frames_interaction_energy\": shape (100,), type \"<f8\">, 'frames_bSASA': <HDF5 dataset \"frames_bSASA\": shape (100,), type \"<f8\">}\n",
      "1a86 38\n",
      "{'trajectory_coordinates': <HDF5 dataset \"trajectory_coordinates\": shape (100, 2446, 3), type \"<f8\">, 'atoms_type': <HDF5 dataset \"atoms_type\": shape (2446,), type \"<i8\">, 'atoms_number': <HDF5 dataset \"atoms_number\": shape (2446,), type \"<i8\">, 'atoms_residue': <HDF5 dataset \"atoms_residue\": shape (2446,), type \"<i8\">, 'atoms_element': <HDF5 dataset \"atoms_element\": shape (2446,), type \"<i8\">, 'molecules_begin_atom_index': <HDF5 dataset \"molecules_begin_atom_index\": shape (2,), type \"<i8\">, 'frames_rmsd_ligand': <HDF5 dataset \"frames_rmsd_ligand\": shape (100,), type \"<f8\">, 'frames_distance': <HDF5 dataset \"frames_distance\": shape (100,), type \"<f8\">, 'frames_interaction_energy': <HDF5 dataset \"frames_interaction_energy\": shape (100,), type \"<f8\">, 'frames_bSASA': <HDF5 dataset \"frames_bSASA\": shape (100,), type \"<f8\">}\n",
      "1a8i 39\n",
      "{'trajectory_coordinates': <HDF5 dataset \"trajectory_coordinates\": shape (100, 26445, 3), type \"<f8\">, 'atoms_type': <HDF5 dataset \"atoms_type\": shape (26445,), type \"<i8\">, 'atoms_number': <HDF5 dataset \"atoms_number\": shape (26445,), type \"<i8\">, 'atoms_residue': <HDF5 dataset \"atoms_residue\": shape (26445,), type \"<i8\">, 'atoms_element': <HDF5 dataset \"atoms_element\": shape (26445,), type \"<i8\">, 'molecules_begin_atom_index': <HDF5 dataset \"molecules_begin_atom_index\": shape (9,), type \"<i8\">, 'frames_rmsd_ligand': <HDF5 dataset \"frames_rmsd_ligand\": shape (100,), type \"<f8\">, 'frames_distance': <HDF5 dataset \"frames_distance\": shape (100,), type \"<f8\">, 'frames_interaction_energy': <HDF5 dataset \"frames_interaction_energy\": shape (100,), type \"<f8\">, 'frames_bSASA': <HDF5 dataset \"frames_bSASA\": shape (100,), type \"<f8\">}\n",
      "1a8t 40\n",
      "{'trajectory_coordinates': <HDF5 dataset \"trajectory_coordinates\": shape (100, 3559, 3), type \"<f8\">, 'atoms_type': <HDF5 dataset \"atoms_type\": shape (3559,), type \"<i8\">, 'atoms_number': <HDF5 dataset \"atoms_number\": shape (3559,), type \"<i8\">, 'atoms_residue': <HDF5 dataset \"atoms_residue\": shape (3559,), type \"<i8\">, 'atoms_element': <HDF5 dataset \"atoms_element\": shape (3559,), type \"<i8\">, 'molecules_begin_atom_index': <HDF5 dataset \"molecules_begin_atom_index\": shape (2,), type \"<i8\">, 'frames_rmsd_ligand': <HDF5 dataset \"frames_rmsd_ligand\": shape (100,), type \"<f8\">, 'frames_distance': <HDF5 dataset \"frames_distance\": shape (100,), type \"<f8\">, 'frames_interaction_energy': <HDF5 dataset \"frames_interaction_energy\": shape (100,), type \"<f8\">, 'frames_bSASA': <HDF5 dataset \"frames_bSASA\": shape (100,), type \"<f8\">}\n",
      "1a94 41\n",
      "{'trajectory_coordinates': <HDF5 dataset \"trajectory_coordinates\": shape (100, 3248, 3), type \"<f8\">, 'atoms_type': <HDF5 dataset \"atoms_type\": shape (3248,), type \"<i8\">, 'atoms_number': <HDF5 dataset \"atoms_number\": shape (3248,), type \"<i8\">, 'atoms_residue': <HDF5 dataset \"atoms_residue\": shape (3248,), type \"<i8\">, 'atoms_element': <HDF5 dataset \"atoms_element\": shape (3248,), type \"<i8\">, 'molecules_begin_atom_index': <HDF5 dataset \"molecules_begin_atom_index\": shape (3,), type \"<i8\">, 'frames_rmsd_ligand': <HDF5 dataset \"frames_rmsd_ligand\": shape (100,), type \"<f8\">, 'frames_distance': <HDF5 dataset \"frames_distance\": shape (100,), type \"<f8\">, 'frames_interaction_energy': <HDF5 dataset \"frames_interaction_energy\": shape (100,), type \"<f8\">, 'frames_bSASA': <HDF5 dataset \"frames_bSASA\": shape (100,), type \"<f8\">}\n",
      "1a99 42\n",
      "{'trajectory_coordinates': <HDF5 dataset \"trajectory_coordinates\": shape (100, 10680, 3), type \"<f8\">, 'atoms_type': <HDF5 dataset \"atoms_type\": shape (10680,), type \"<i8\">, 'atoms_number': <HDF5 dataset \"atoms_number\": shape (10680,), type \"<i8\">, 'atoms_residue': <HDF5 dataset \"atoms_residue\": shape (10680,), type \"<i8\">, 'atoms_element': <HDF5 dataset \"atoms_element\": shape (10680,), type \"<i8\">, 'molecules_begin_atom_index': <HDF5 dataset \"molecules_begin_atom_index\": shape (3,), type \"<i8\">, 'frames_rmsd_ligand': <HDF5 dataset \"frames_rmsd_ligand\": shape (100,), type \"<f8\">, 'frames_distance': <HDF5 dataset \"frames_distance\": shape (100,), type \"<f8\">, 'frames_interaction_energy': <HDF5 dataset \"frames_interaction_energy\": shape (100,), type \"<f8\">, 'frames_bSASA': <HDF5 dataset \"frames_bSASA\": shape (100,), type \"<f8\">}\n",
      "1a9m 43\n",
      "{'trajectory_coordinates': <HDF5 dataset \"trajectory_coordinates\": shape (100, 3243, 3), type \"<f8\">, 'atoms_type': <HDF5 dataset \"atoms_type\": shape (3243,), type \"<i8\">, 'atoms_number': <HDF5 dataset \"atoms_number\": shape (3243,), type \"<i8\">, 'atoms_residue': <HDF5 dataset \"atoms_residue\": shape (3243,), type \"<i8\">, 'atoms_element': <HDF5 dataset \"atoms_element\": shape (3243,), type \"<i8\">, 'molecules_begin_atom_index': <HDF5 dataset \"molecules_begin_atom_index\": shape (3,), type \"<i8\">, 'frames_rmsd_ligand': <HDF5 dataset \"frames_rmsd_ligand\": shape (100,), type \"<f8\">, 'frames_distance': <HDF5 dataset \"frames_distance\": shape (100,), type \"<f8\">, 'frames_interaction_energy': <HDF5 dataset \"frames_interaction_energy\": shape (100,), type \"<f8\">, 'frames_bSASA': <HDF5 dataset \"frames_bSASA\": shape (100,), type \"<f8\">}\n",
      "1a9q 44\n",
      "{'trajectory_coordinates': <HDF5 dataset \"trajectory_coordinates\": shape (100, 13118, 3), type \"<f8\">, 'atoms_type': <HDF5 dataset \"atoms_type\": shape (13118,), type \"<i8\">, 'atoms_number': <HDF5 dataset \"atoms_number\": shape (13118,), type \"<i8\">, 'atoms_residue': <HDF5 dataset \"atoms_residue\": shape (13118,), type \"<i8\">, 'atoms_element': <HDF5 dataset \"atoms_element\": shape (13118,), type \"<i8\">, 'molecules_begin_atom_index': <HDF5 dataset \"molecules_begin_atom_index\": shape (4,), type \"<i8\">, 'frames_rmsd_ligand': <HDF5 dataset \"frames_rmsd_ligand\": shape (100,), type \"<f8\">, 'frames_distance': <HDF5 dataset \"frames_distance\": shape (100,), type \"<f8\">, 'frames_interaction_energy': <HDF5 dataset \"frames_interaction_energy\": shape (100,), type \"<f8\">, 'frames_bSASA': <HDF5 dataset \"frames_bSASA\": shape (100,), type \"<f8\">}\n",
      "1a9u 45\n",
      "{'trajectory_coordinates': <HDF5 dataset \"trajectory_coordinates\": shape (100, 5701, 3), type \"<f8\">, 'atoms_type': <HDF5 dataset \"atoms_type\": shape (5701,), type \"<i8\">, 'atoms_number': <HDF5 dataset \"atoms_number\": shape (5701,), type \"<i8\">, 'atoms_residue': <HDF5 dataset \"atoms_residue\": shape (5701,), type \"<i8\">, 'atoms_element': <HDF5 dataset \"atoms_element\": shape (5701,), type \"<i8\">, 'molecules_begin_atom_index': <HDF5 dataset \"molecules_begin_atom_index\": shape (2,), type \"<i8\">, 'frames_rmsd_ligand': <HDF5 dataset \"frames_rmsd_ligand\": shape (100,), type \"<f8\">, 'frames_distance': <HDF5 dataset \"frames_distance\": shape (100,), type \"<f8\">, 'frames_interaction_energy': <HDF5 dataset \"frames_interaction_energy\": shape (100,), type \"<f8\">, 'frames_bSASA': <HDF5 dataset \"frames_bSASA\": shape (100,), type \"<f8\">}\n",
      "1aaq 46\n",
      "{'trajectory_coordinates': <HDF5 dataset \"trajectory_coordinates\": shape (100, 3217, 3), type \"<f8\">, 'atoms_type': <HDF5 dataset \"atoms_type\": shape (3217,), type \"<i8\">, 'atoms_number': <HDF5 dataset \"atoms_number\": shape (3217,), type \"<i8\">, 'atoms_residue': <HDF5 dataset \"atoms_residue\": shape (3217,), type \"<i8\">, 'atoms_element': <HDF5 dataset \"atoms_element\": shape (3217,), type \"<i8\">, 'molecules_begin_atom_index': <HDF5 dataset \"molecules_begin_atom_index\": shape (3,), type \"<i8\">, 'frames_rmsd_ligand': <HDF5 dataset \"frames_rmsd_ligand\": shape (100,), type \"<f8\">, 'frames_distance': <HDF5 dataset \"frames_distance\": shape (100,), type \"<f8\">, 'frames_interaction_energy': <HDF5 dataset \"frames_interaction_energy\": shape (100,), type \"<f8\">, 'frames_bSASA': <HDF5 dataset \"frames_bSASA\": shape (100,), type \"<f8\">}\n",
      "1abt 47\n",
      "{'trajectory_coordinates': <HDF5 dataset \"trajectory_coordinates\": shape (100, 1207, 3), type \"<f8\">, 'atoms_type': <HDF5 dataset \"atoms_type\": shape (1207,), type \"<i8\">, 'atoms_number': <HDF5 dataset \"atoms_number\": shape (1207,), type \"<i8\">, 'atoms_residue': <HDF5 dataset \"atoms_residue\": shape (1207,), type \"<i8\">, 'atoms_element': <HDF5 dataset \"atoms_element\": shape (1207,), type \"<i8\">, 'molecules_begin_atom_index': <HDF5 dataset \"molecules_begin_atom_index\": shape (2,), type \"<i8\">, 'frames_rmsd_ligand': <HDF5 dataset \"frames_rmsd_ligand\": shape (100,), type \"<f8\">, 'frames_distance': <HDF5 dataset \"frames_distance\": shape (100,), type \"<f8\">, 'frames_interaction_energy': <HDF5 dataset \"frames_interaction_energy\": shape (100,), type \"<f8\">, 'frames_bSASA': <HDF5 dataset \"frames_bSASA\": shape (100,), type \"<f8\">}\n",
      "1ad8 48\n",
      "{'trajectory_coordinates': <HDF5 dataset \"trajectory_coordinates\": shape (100, 4569, 3), type \"<f8\">, 'atoms_type': <HDF5 dataset \"atoms_type\": shape (4569,), type \"<i8\">, 'atoms_number': <HDF5 dataset \"atoms_number\": shape (4569,), type \"<i8\">, 'atoms_residue': <HDF5 dataset \"atoms_residue\": shape (4569,), type \"<i8\">, 'atoms_element': <HDF5 dataset \"atoms_element\": shape (4569,), type \"<i8\">, 'molecules_begin_atom_index': <HDF5 dataset \"molecules_begin_atom_index\": shape (3,), type \"<i8\">, 'frames_rmsd_ligand': <HDF5 dataset \"frames_rmsd_ligand\": shape (100,), type \"<f8\">, 'frames_distance': <HDF5 dataset \"frames_distance\": shape (100,), type \"<f8\">, 'frames_interaction_energy': <HDF5 dataset \"frames_interaction_energy\": shape (100,), type \"<f8\">, 'frames_bSASA': <HDF5 dataset \"frames_bSASA\": shape (100,), type \"<f8\">}\n",
      "1add 49\n",
      "{'trajectory_coordinates': <HDF5 dataset \"trajectory_coordinates\": shape (100, 5585, 3), type \"<f8\">, 'atoms_type': <HDF5 dataset \"atoms_type\": shape (5585,), type \"<i8\">, 'atoms_number': <HDF5 dataset \"atoms_number\": shape (5585,), type \"<i8\">, 'atoms_residue': <HDF5 dataset \"atoms_residue\": shape (5585,), type \"<i8\">, 'atoms_element': <HDF5 dataset \"atoms_element\": shape (5585,), type \"<i8\">, 'molecules_begin_atom_index': <HDF5 dataset \"molecules_begin_atom_index\": shape (2,), type \"<i8\">, 'frames_rmsd_ligand': <HDF5 dataset \"frames_rmsd_ligand\": shape (100,), type \"<f8\">, 'frames_distance': <HDF5 dataset \"frames_distance\": shape (100,), type \"<f8\">, 'frames_interaction_energy': <HDF5 dataset \"frames_interaction_energy\": shape (100,), type \"<f8\">, 'frames_bSASA': <HDF5 dataset \"frames_bSASA\": shape (100,), type \"<f8\">}\n",
      "1adl 50\n",
      "{'trajectory_coordinates': <HDF5 dataset \"trajectory_coordinates\": shape (100, 4167, 3), type \"<f8\">, 'atoms_type': <HDF5 dataset \"atoms_type\": shape (4167,), type \"<i8\">, 'atoms_number': <HDF5 dataset \"atoms_number\": shape (4167,), type \"<i8\">, 'atoms_residue': <HDF5 dataset \"atoms_residue\": shape (4167,), type \"<i8\">, 'atoms_element': <HDF5 dataset \"atoms_element\": shape (4167,), type \"<i8\">, 'molecules_begin_atom_index': <HDF5 dataset \"molecules_begin_atom_index\": shape (3,), type \"<i8\">, 'frames_rmsd_ligand': <HDF5 dataset \"frames_rmsd_ligand\": shape (100,), type \"<f8\">, 'frames_distance': <HDF5 dataset \"frames_distance\": shape (100,), type \"<f8\">, 'frames_interaction_energy': <HDF5 dataset \"frames_interaction_energy\": shape (100,), type \"<f8\">, 'frames_bSASA': <HDF5 dataset \"frames_bSASA\": shape (100,), type \"<f8\">}\n"
     ]
    }
   ],
   "source": [
    "class Args:\n",
    "    # input file\n",
    "    datasetIn = \"../data/MD/h5_files/tiny_md.hdf5\"\n",
    "    # Feature that should be stripped, e.g. atoms_element or atoms_type\n",
    "    strip_feature = \"atoms_element\"\n",
    "    # Value to strip, e.g. if strip_freature= atoms_element; 1 for H. \n",
    "    strip_value = 1\n",
    "    # Start index of structures\n",
    "    begin = 0\n",
    "    # End index of structures\n",
    "    end = 50 \n",
    "    # We calculate the adaptability for each atom. \n",
    "    # Default behaviour will also strip H atoms, if no stripping should be perfomed set strip_value to -1.\n",
    "    Adaptability = True\n",
    "    # If set to True this will create a new feature that combines one entry for each protein AA but all ligand entries; \n",
    "    # e.g. for only ca set strip_feature = atoms_type and strip_value = 14\n",
    "    Pres_Lat = False\n",
    "    # We strip the complex by given distance (in Angstrom) from COG of molecule, \n",
    "    # use e.g. 15.0. If default value is given (0.0) no pocket stripping will be applied.\n",
    "    Pocket = 0.0\n",
    "    # output file name and location\n",
    "    datasetOut = \"../data/MD/h5_files/tiny_md_out.hdf5\"\n",
    "\n",
    "\n",
    "args = Args()\n",
    "\n",
    "preprocessing_db.main(args)"
   ]
  },
  {
   "cell_type": "markdown",
   "metadata": {},
   "source": [
    "The same steps used for MD can be used to load the MD dataset"
   ]
  },
  {
   "cell_type": "code",
   "execution_count": 55,
   "metadata": {},
   "outputs": [],
   "source": [
    "files_root =  \"\"\n",
    "\n",
    "mdh5_file = '../data/MD/h5_files/tiny_md_out.hdf5'\n",
    "\n",
    "train_idx = \"../data/MD/splits/train_tiny_md.txt\"\n",
    "val_idx = \"../data/MD/splits/val_tiny_md.txt\"\n",
    "test_idx = \"../data/MD/splits/test_tiny_md.txt\"\n",
    "\n",
    "md_H5File = h5py.File(mdh5_file)"
   ]
  },
  {
   "cell_type": "code",
   "execution_count": 56,
   "metadata": {},
   "outputs": [],
   "source": [
    "# Atom's coordinates from the first frame \n",
    "xyz = md_H5File['13gs']['trajectory_coordinates'][0, :, :] "
   ]
  },
  {
   "cell_type": "code",
   "execution_count": 53,
   "metadata": {},
   "outputs": [],
   "source": [
    "train_dataset = ProtDataset(mdh5_file, idx_file=train_idx, transform=GNNTransformMD(), post_transform=T.RandomTranslate(0.05))\n",
    "\n",
    "train_loader = DataLoader(train_dataset, batch_size=16, num_workers=48)"
   ]
  },
  {
   "cell_type": "code",
   "execution_count": 54,
   "metadata": {},
   "outputs": [
    {
     "name": "stdout",
     "output_type": "stream",
     "text": [
      "DataBatch(x=[36840, 11], edge_index=[2, 603016], edge_attr=[603016], y=[36840], pos=[36840, 3], ids=[16], batch=[36840], ptr=[17])\n"
     ]
    }
   ],
   "source": [
    "for idx, val in enumerate(train_loader):\n",
    "    print(val)\n",
    "    break"
   ]
  },
  {
   "cell_type": "code",
   "execution_count": 50,
   "metadata": {},
   "outputs": [],
   "source": [
    "mddata = MDDataModule(files_root, h5file=mdh5_file, train=train_idx, val=val_idx, test=test_idx, num_workers=0)"
   ]
  },
  {
   "cell_type": "code",
   "execution_count": 51,
   "metadata": {},
   "outputs": [],
   "source": [
    "mddata.setup()"
   ]
  },
  {
   "cell_type": "code",
   "execution_count": 52,
   "metadata": {},
   "outputs": [
    {
     "name": "stdout",
     "output_type": "stream",
     "text": [
      "DataBatch(x=[38378, 11], edge_index=[2, 622332], edge_attr=[622332], y=[38378], pos=[38378, 3], ids=[16], batch=[38378], ptr=[17])\n"
     ]
    }
   ],
   "source": [
    "train_loader = mddata.train_dataloader()\n",
    "\n",
    "for idx, val in enumerate(train_loader):\n",
    "    print(val)\n",
    "    break"
   ]
  },
  {
   "cell_type": "code",
   "execution_count": null,
   "metadata": {},
   "outputs": [],
   "source": []
  },
  {
   "cell_type": "code",
   "execution_count": null,
   "metadata": {},
   "outputs": [],
   "source": []
  }
 ],
 "metadata": {
  "kernelspec": {
   "display_name": "Python 3.9.6 64-bit",
   "language": "python",
   "name": "python3"
  },
  "language_info": {
   "codemirror_mode": {
    "name": "ipython",
    "version": 3
   },
   "file_extension": ".py",
   "mimetype": "text/x-python",
   "name": "python",
   "nbconvert_exporter": "python",
   "pygments_lexer": "ipython3",
   "version": "3.9.6"
  },
  "vscode": {
   "interpreter": {
    "hash": "2a740140079018068b3444b6d89694224b6cb3b34d8392a5487b58edeeeafee1"
   }
  }
 },
 "nbformat": 4,
 "nbformat_minor": 4
}
