{
 "cells": [
  {
   "cell_type": "markdown",
   "metadata": {},
   "source": [
    "# MiSaTo-Dataset: a tutorial"
   ]
  },
  {
   "cell_type": "markdown",
   "metadata": {},
   "source": [
    "In this notebook, we will show how our QM and MD dataset are stored in h5 files. We also show how the data can be loaded so that it can be used by a deep learning model. "
   ]
  },
  {
   "cell_type": "markdown",
   "metadata": {},
   "source": [
    "We start by importing the useful packages and set up the paths of the files"
   ]
  },
  {
   "cell_type": "code",
   "execution_count": 1,
   "metadata": {},
   "outputs": [
    {
     "name": "stderr",
     "output_type": "stream",
     "text": [
      "/Users/narimene/Downloads/MiSaTo-dataset-main/misato_env/lib/python3.9/site-packages/tqdm/auto.py:22: TqdmWarning: IProgress not found. Please update jupyter and ipywidgets. See https://ipywidgets.readthedocs.io/en/stable/user_install.html\n",
      "  from .autonotebook import tqdm as notebook_tqdm\n"
     ]
    }
   ],
   "source": [
    "import h5py\n",
    " \n",
    "import torch_geometric.transforms as T\n",
    "from torch_geometric.loader import DataLoader\n",
    "\n",
    "from data.components.datasets import MolDataset, ProtDataset\n",
    "from data.components.transformQM import GNNTransformQM\n",
    "from data.components.transformMD import GNNTransformMD\n",
    "from data.qm_datamodule import QMDataModule\n",
    "from data.md_datamodule import MDDataModule"
   ]
  },
  {
   "cell_type": "code",
   "execution_count": 4,
   "metadata": {},
   "outputs": [],
   "source": [
    "qmh5_file = \"../data/QM/h5_files/tiny-qm.hdf5\"\n",
    "norm_file = \"../data/QM/h5_files/qm_norm_fold1.hdf5\"\n",
    "norm_txtfile = \"../data/QM/splits/train_norm_fold1.txt\""
   ]
  },
  {
   "cell_type": "markdown",
   "metadata": {},
   "source": [
    "## H5 files presentations"
   ]
  },
  {
   "cell_type": "markdown",
   "metadata": {},
   "source": [
    "We read the QM H5 file and H5 file used to normalize the target values."
   ]
  },
  {
   "cell_type": "code",
   "execution_count": 5,
   "metadata": {},
   "outputs": [],
   "source": [
    "qm_H5File = h5py.File(qmh5_file)\n",
    "qm_normFile = h5py.File(norm_file)"
   ]
  },
  {
   "cell_type": "markdown",
   "metadata": {},
   "source": [
    "The ligands can be accessed using the pdb-id. Bellow we show the first ten molecules of the file."
   ]
  },
  {
   "cell_type": "code",
   "execution_count": 6,
   "metadata": {},
   "outputs": [
    {
     "data": {
      "text/plain": [
       "<KeysViewHDF5 ['10gs', '11gs', '13gs', '16pk', '184l', '185l', '186l', '187l', '188l', '1a07', '1a08', '1a09', '1a0q', '1a0tA', '1a0tB', '1a1b', '1a1c', '1a1e', '1a28', '1a2c', '1a30', '1a37', '1a42', '1a46', '1a4g', '1a4h', '1a4k', '1a4m', '1a4q', '1a4r', '1a4w', '1a50', '1a52', '1a5g', '1a5h', '1a5v', '1a61', '1a69', '1a7c', '1a7t', '1a7x', '1a85', '1a86', '1a8i', '1a8t', '1a94', '1a99', '1a9m', '1a9q', '1a9u']>"
      ]
     },
     "execution_count": 6,
     "metadata": {},
     "output_type": "execute_result"
    }
   ],
   "source": [
    "qm_H5File.keys()"
   ]
  },
  {
   "cell_type": "markdown",
   "metadata": {},
   "source": [
    "You can access to the molecule trajectories as follow"
   ]
  },
  {
   "cell_type": "code",
   "execution_count": 7,
   "metadata": {},
   "outputs": [],
   "source": [
    "prop = qm_H5File[\"10gs\"][\"atom_properties\"][\"atom_properties_values\"]\n",
    "\n",
    "x = prop[:,0]\n",
    "y = prop[:,1]\n",
    "z = prop[:,2]"
   ]
  },
  {
   "cell_type": "markdown",
   "metadata": {},
   "source": [
    "Target values can be accessed by specifiying into bracket the molecule name, then mol_properties and finally the name of the target value that we want to access: "
   ]
  },
  {
   "cell_type": "code",
   "execution_count": 8,
   "metadata": {},
   "outputs": [
    {
     "data": {
      "text/plain": [
       "6.0974"
      ]
     },
     "execution_count": 8,
     "metadata": {},
     "output_type": "execute_result"
    }
   ],
   "source": [
    "qm_H5File[\"10gs\"][\"mol_properties\"][\"Electron_Affinity\"][()]"
   ]
  },
  {
   "cell_type": "markdown",
   "metadata": {},
   "source": [
    "We can access to the mean and standard-deviation of each target value by specifiying it into bracket.\n",
    "We first specify the set, then the target value and finally either mean or std. "
   ]
  },
  {
   "cell_type": "code",
   "execution_count": 9,
   "metadata": {},
   "outputs": [
    {
     "data": {
      "text/plain": [
       "<KeysViewHDF5 ['Electron_Affinity', 'Electronegativity', 'Hardness', 'Ionization_Potential']>"
      ]
     },
     "execution_count": 9,
     "metadata": {},
     "output_type": "execute_result"
    }
   ],
   "source": [
    "qm_normFile.keys()"
   ]
  },
  {
   "cell_type": "code",
   "execution_count": 10,
   "metadata": {},
   "outputs": [
    {
     "name": "stdout",
     "output_type": "stream",
     "text": [
      "6.33265\n",
      "18.636927\n"
     ]
    }
   ],
   "source": [
    "print(qm_normFile[\"Electron_Affinity\"][\"mean\"][()])\n",
    "print(qm_normFile[\"Electron_Affinity\"][\"std\"][()])"
   ]
  },
  {
   "cell_type": "markdown",
   "metadata": {},
   "source": [
    "## Datasets and dataloaders"
   ]
  },
  {
   "cell_type": "markdown",
   "metadata": {},
   "source": [
    "### PyTorch"
   ]
  },
  {
   "cell_type": "markdown",
   "metadata": {},
   "source": [
    "The QM and MD datasets are warped into a PyTorch Dataset class under the name MolDataset and ProtDataset, respectively. \n",
    "The parameters taken by the two classes as well as their types can be found as follow."
   ]
  },
  {
   "cell_type": "code",
   "execution_count": 11,
   "metadata": {},
   "outputs": [
    {
     "name": "stdout",
     "output_type": "stream",
     "text": [
      "Help on class MolDataset in module data.components.datasets:\n",
      "\n",
      "class MolDataset(torch.utils.data.dataset.Dataset)\n",
      " |  MolDataset(data_file, idx_file, target_norm_file, transform, isTrain=False, post_transform=None)\n",
      " |  \n",
      " |  Load the QM dataset.\n",
      " |  \n",
      " |  Method resolution order:\n",
      " |      MolDataset\n",
      " |      torch.utils.data.dataset.Dataset\n",
      " |      typing.Generic\n",
      " |      builtins.object\n",
      " |  \n",
      " |  Methods defined here:\n",
      " |  \n",
      " |  __getitem__(self, index: int)\n",
      " |  \n",
      " |  __init__(self, data_file, idx_file, target_norm_file, transform, isTrain=False, post_transform=None)\n",
      " |      Args:\n",
      " |          data_file (str): H5 file path\n",
      " |          idx_file (str): path of txt file which contains pdb ids for a specific split such as train, val or test.\n",
      " |          target_norm_file (str): H5 file path where training mean and std are stored.  \n",
      " |          transform (obj): class that convert a dict to a PyTorch Geometric graph.\n",
      " |          isTrain (bool, optional): Flag to standardize the target values (only used for train set). Defaults to False.\n",
      " |          post_transform (PyTorch Geometric, optional): data augmentation. Defaults to None.\n",
      " |  \n",
      " |  __len__(self) -> int\n",
      " |  \n",
      " |  ----------------------------------------------------------------------\n",
      " |  Data and other attributes defined here:\n",
      " |  \n",
      " |  __parameters__ = ()\n",
      " |  \n",
      " |  ----------------------------------------------------------------------\n",
      " |  Methods inherited from torch.utils.data.dataset.Dataset:\n",
      " |  \n",
      " |  __add__(self, other: 'Dataset[T_co]') -> 'ConcatDataset[T_co]'\n",
      " |  \n",
      " |  ----------------------------------------------------------------------\n",
      " |  Data descriptors inherited from torch.utils.data.dataset.Dataset:\n",
      " |  \n",
      " |  __dict__\n",
      " |      dictionary for instance variables (if defined)\n",
      " |  \n",
      " |  __weakref__\n",
      " |      list of weak references to the object (if defined)\n",
      " |  \n",
      " |  ----------------------------------------------------------------------\n",
      " |  Data and other attributes inherited from torch.utils.data.dataset.Dataset:\n",
      " |  \n",
      " |  __orig_bases__ = (typing.Generic[+T_co],)\n",
      " |  \n",
      " |  ----------------------------------------------------------------------\n",
      " |  Class methods inherited from typing.Generic:\n",
      " |  \n",
      " |  __class_getitem__(params) from builtins.type\n",
      " |  \n",
      " |  __init_subclass__(*args, **kwargs) from builtins.type\n",
      " |      This method is called when a class is subclassed.\n",
      " |      \n",
      " |      The default implementation does nothing. It may be\n",
      " |      overridden to extend subclasses.\n",
      "\n"
     ]
    }
   ],
   "source": [
    "help(MolDataset)"
   ]
  },
  {
   "cell_type": "code",
   "execution_count": 12,
   "metadata": {},
   "outputs": [
    {
     "name": "stdout",
     "output_type": "stream",
     "text": [
      "Help on class ProtDataset in module data.components.datasets:\n",
      "\n",
      "class ProtDataset(torch.utils.data.dataset.Dataset)\n",
      " |  ProtDataset(md_data_file, idx_file, transform=None, post_transform=None)\n",
      " |  \n",
      " |  Load the MD dataset\n",
      " |  \n",
      " |  Method resolution order:\n",
      " |      ProtDataset\n",
      " |      torch.utils.data.dataset.Dataset\n",
      " |      typing.Generic\n",
      " |      builtins.object\n",
      " |  \n",
      " |  Methods defined here:\n",
      " |  \n",
      " |  __getitem__(self, index: int)\n",
      " |  \n",
      " |  __init__(self, md_data_file, idx_file, transform=None, post_transform=None)\n",
      " |      Args:\n",
      " |          md_data_file (str): H5 file path\n",
      " |          idx_file (str): path of txt file which contains pdb ids for a specific split such as train, val or test.\n",
      " |          transform (obj): class that convert a dict to a PyTorch Geometric graph.\n",
      " |          post_transform (PyTorch Geometric, optional): data augmentation. Defaults to None.\n",
      " |  \n",
      " |  __len__(self) -> int\n",
      " |  \n",
      " |  ----------------------------------------------------------------------\n",
      " |  Data and other attributes defined here:\n",
      " |  \n",
      " |  __parameters__ = ()\n",
      " |  \n",
      " |  ----------------------------------------------------------------------\n",
      " |  Methods inherited from torch.utils.data.dataset.Dataset:\n",
      " |  \n",
      " |  __add__(self, other: 'Dataset[T_co]') -> 'ConcatDataset[T_co]'\n",
      " |  \n",
      " |  ----------------------------------------------------------------------\n",
      " |  Data descriptors inherited from torch.utils.data.dataset.Dataset:\n",
      " |  \n",
      " |  __dict__\n",
      " |      dictionary for instance variables (if defined)\n",
      " |  \n",
      " |  __weakref__\n",
      " |      list of weak references to the object (if defined)\n",
      " |  \n",
      " |  ----------------------------------------------------------------------\n",
      " |  Data and other attributes inherited from torch.utils.data.dataset.Dataset:\n",
      " |  \n",
      " |  __orig_bases__ = (typing.Generic[+T_co],)\n",
      " |  \n",
      " |  ----------------------------------------------------------------------\n",
      " |  Class methods inherited from typing.Generic:\n",
      " |  \n",
      " |  __class_getitem__(params) from builtins.type\n",
      " |  \n",
      " |  __init_subclass__(*args, **kwargs) from builtins.type\n",
      " |      This method is called when a class is subclassed.\n",
      " |      \n",
      " |      The default implementation does nothing. It may be\n",
      " |      overridden to extend subclasses.\n",
      "\n"
     ]
    }
   ],
   "source": [
    "help(ProtDataset)"
   ]
  },
  {
   "cell_type": "markdown",
   "metadata": {},
   "source": [
    "We can load the data by instanciating MolDataset and providing the QM H5 file, the text file that indicates the molecule used for training and the norm file used to normalize the target values. \n",
    "\n",
    "The MolDataset class without any transform return a dictionary that contain the elements and their coordinates. We use GNNTransformQM class to transform our data to a graph that can be used by a GNN. The parameter post_transform is another transformation used to perform data augmentation."
   ]
  },
  {
   "cell_type": "code",
   "execution_count": 13,
   "metadata": {},
   "outputs": [],
   "source": [
    "train = \"../data/QM/splits/train_tinyQM.txt\"\n",
    "\n",
    "transform = T.RandomTranslate(0.25)\n",
    "batch_size = 128\n",
    "num_workers = 48\n",
    "\n",
    "data_train = MolDataset(qmh5_file, train, target_norm_file=norm_file, transform=GNNTransformQM(), post_transform=transform)"
   ]
  },
  {
   "cell_type": "markdown",
   "metadata": {},
   "source": [
    "Finally, we can load our data using the PyTorch DataLoader."
   ]
  },
  {
   "cell_type": "code",
   "execution_count": 14,
   "metadata": {},
   "outputs": [
    {
     "name": "stdout",
     "output_type": "stream",
     "text": [
      "DataBatch(x=[1602, 25], edge_index=[2, 30354], edge_attr=[30354, 1], y=[60], pos=[1602, 3], id=[30], batch=[1602], ptr=[31])\n"
     ]
    }
   ],
   "source": [
    "train_loader = DataLoader(data_train, batch_size, shuffle=True, num_workers=0)\n",
    "\n",
    "for idx, val in enumerate(train_loader):\n",
    "    print(val)\n",
    "    break"
   ]
  },
  {
   "cell_type": "markdown",
   "metadata": {},
   "source": [
    "### PyTorch lightning "
   ]
  },
  {
   "cell_type": "markdown",
   "metadata": {},
   "source": [
    "The QMDataModule is a class inherated from LightningDataModule that instanciate the MolDataset for training, validation and test set and retrun a dataloader for each set. \n",
    "\n",
    "We start by instanciation of the QMDataModule"
   ]
  },
  {
   "cell_type": "code",
   "execution_count": 33,
   "metadata": {},
   "outputs": [],
   "source": [
    "files_root =  \"../data/QM\"\n",
    "\n",
    "qmh5file = \"h5_files/tiny-qm.hdf5\"\n",
    "\n",
    "tr = \"splits/train_tinyQM.txt\"\n",
    "v = \"splits/val_tinyQM.txt\"\n",
    "te = \"splits/test_tinyQM.txt\"\n",
    "\n",
    "qmdata = QMDataModule(files_root, h5file=qmh5file, train=tr, val=v, test=te, num_workers=0)"
   ]
  },
  {
   "cell_type": "markdown",
   "metadata": {},
   "source": [
    "Then, we call the setup function to instanciate the MolDataset for training, validation and test set"
   ]
  },
  {
   "cell_type": "code",
   "execution_count": 34,
   "metadata": {},
   "outputs": [],
   "source": [
    "qmdata.setup()"
   ]
  },
  {
   "cell_type": "markdown",
   "metadata": {},
   "source": [
    "Finally, we can return a dataloader for each set."
   ]
  },
  {
   "cell_type": "code",
   "execution_count": 35,
   "metadata": {},
   "outputs": [
    {
     "name": "stdout",
     "output_type": "stream",
     "text": [
      "DataBatch(x=[1602, 25], edge_index=[2, 30354], edge_attr=[30354, 1], y=[60], pos=[1602, 3], id=[30], batch=[1602], ptr=[31])\n"
     ]
    }
   ],
   "source": [
    "train_loader = qmdata.train_dataloader()\n",
    "\n",
    "for idx, val in enumerate(train_loader):\n",
    "    print(val)\n",
    "    break\n",
    "    "
   ]
  },
  {
   "cell_type": "markdown",
   "metadata": {},
   "source": [
    "# MD dataset"
   ]
  },
  {
   "cell_type": "markdown",
   "metadata": {},
   "source": [
    "The same steps can be used to load the MD dataset"
   ]
  },
  {
   "cell_type": "code",
   "execution_count": 36,
   "metadata": {},
   "outputs": [],
   "source": [
    "mdh5_file = '../data/MD/h5_files/tiny-md.hdf5'\n",
    "md_H5File = h5py.File(mdh5_file)\n",
    "\n",
    "cutoff = md_H5File[\"10gs\"][\"molecules_begin_atom_index\"][:][-1]\n",
    "\n",
    "x = md_H5File[\"10gs\"][\"atoms_coordinates_ref\"][:][:cutoff, 0]\n",
    "y = md_H5File[\"10gs\"][\"atoms_coordinates_ref\"][:][:cutoff, 1]\n",
    "z = md_H5File[\"10gs\"][\"atoms_coordinates_ref\"][:][:cutoff, 2]"
   ]
  },
  {
   "cell_type": "code",
   "execution_count": 37,
   "metadata": {},
   "outputs": [],
   "source": [
    "train_idx = \"../data/MD/splits/train_tinyMD.txt\"\n",
    "batch_size = 2\n",
    "post_transform = T.RandomTranslate(0.1)\n",
    "\n",
    "train_dataset = ProtDataset(mdh5_file, train_idx, transform=GNNTransformMD(), post_transform=post_transform)"
   ]
  },
  {
   "cell_type": "code",
   "execution_count": 38,
   "metadata": {},
   "outputs": [
    {
     "name": "stdout",
     "output_type": "stream",
     "text": [
      "DataBatch(x=[6151, 11], edge_index=[2, 97370], edge_attr=[97370], y=[6151], pos=[6151, 3], ids=[2], batch=[6151], ptr=[3])\n"
     ]
    }
   ],
   "source": [
    "train_loader = DataLoader(train_dataset, batch_size, shuffle=True)\n",
    "\n",
    "for idx, val in enumerate(train_loader):\n",
    "    print(val)\n",
    "    break"
   ]
  },
  {
   "cell_type": "code",
   "execution_count": 44,
   "metadata": {},
   "outputs": [],
   "source": [
    "files_root =  \"../data/MD\"\n",
    "\n",
    "mdh5_file = 'h5_files/tiny-md.hdf5'\n",
    "\n",
    "train_idx = \"splits/train_tinyMD.txt\"\n",
    "val_idx = \"splits/val_tinyMD.txt\"\n",
    "test_idx = \"splits/test_tinyMD.txt\"\n",
    "\n",
    "\n",
    "\n",
    "mddata = MDDataModule(files_root, h5file=mdh5_file, train=train_idx, val=val_idx, test=test_idx, num_workers=0)"
   ]
  },
  {
   "cell_type": "code",
   "execution_count": 45,
   "metadata": {},
   "outputs": [],
   "source": [
    "mddata.setup()"
   ]
  },
  {
   "cell_type": "code",
   "execution_count": 46,
   "metadata": {},
   "outputs": [
    {
     "name": "stdout",
     "output_type": "stream",
     "text": [
      "DataBatch(x=[36985, 11], edge_index=[2, 583786], edge_attr=[583786], y=[36985], pos=[36985, 3], ids=[16], batch=[36985], ptr=[17])\n"
     ]
    }
   ],
   "source": [
    "train_loader = mddata.train_dataloader()\n",
    "\n",
    "for idx, val in enumerate(train_loader):\n",
    "    print(val)\n",
    "    break"
   ]
  },
  {
   "cell_type": "code",
   "execution_count": null,
   "metadata": {},
   "outputs": [],
   "source": []
  }
 ],
 "metadata": {
  "kernelspec": {
   "display_name": "Python 3.9.6 64-bit",
   "language": "python",
   "name": "python3"
  },
  "language_info": {
   "codemirror_mode": {
    "name": "ipython",
    "version": 3
   },
   "file_extension": ".py",
   "mimetype": "text/x-python",
   "name": "python",
   "nbconvert_exporter": "python",
   "pygments_lexer": "ipython3",
   "version": "3.9.6"
  },
  "vscode": {
   "interpreter": {
    "hash": "202424c22d996cd12676b61adff33a676498857df93b61d846a484612cce9839"
   }
  }
 },
 "nbformat": 4,
 "nbformat_minor": 4
}
